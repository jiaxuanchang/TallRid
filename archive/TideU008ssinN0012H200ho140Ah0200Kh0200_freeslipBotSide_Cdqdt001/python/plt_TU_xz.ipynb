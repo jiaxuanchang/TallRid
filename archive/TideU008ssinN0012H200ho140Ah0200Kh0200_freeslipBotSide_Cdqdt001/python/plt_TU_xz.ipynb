{
 "cells": [
  {
   "cell_type": "code",
   "execution_count": 1,
   "metadata": {},
   "outputs": [
    {
     "name": "stdout",
     "output_type": "stream",
     "text": [
      "/scratch/jxchang/HighRes1/results/TideU008N0SimH200ho140Ah0200Cdqdt003_advSch2.bak20220111000345/input/\n"
     ]
    }
   ],
   "source": [
    "import os\n",
    "currentDirectory = os.getcwd()\n",
    "data_dir = currentDirectory[:-7] + '/input/'\n",
    "print(data_dir)\n",
    "\n",
    "from xmitgcm import open_mdsdataset\n",
    "ds1 = open_mdsdataset(data_dir, geometry='cartesian', endian='<',prefix=['statevars'])"
   ]
  },
  {
   "cell_type": "code",
   "execution_count": 2,
   "metadata": {},
   "outputs": [],
   "source": [
    "import matplotlib.pyplot as plt\n",
    "import numpy as np\n",
    "from matplotlib import cm\n",
    "from matplotlib.colors import BoundaryNorm\n",
    "import matplotlib.animation as animation\n",
    "import math"
   ]
  },
  {
   "cell_type": "code",
   "execution_count": 3,
   "metadata": {},
   "outputs": [
    {
     "name": "stdout",
     "output_type": "stream",
     "text": [
      "refTemp=29.300000000000068\n",
      "tRef=[29.3        28.86940316 28.43880632 28.00820948 27.57761264 27.1470158\n",
      " 26.73519355 26.36472553 26.03703719 25.74760711 25.49236606 25.26765299\n",
      " 25.07017509 24.89697183 24.74538238 24.61301623 24.49772665 24.39758666\n",
      " 24.31086738 24.23601849 24.17165048 24.11651879 24.06950931 24.02962545\n",
      " 23.99597635 23.96776632 23.94428524 23.92489996 23.90904652 23.89622314\n",
      " 23.88541408 23.87522244 23.8650308  23.85483916 23.84464752 23.83445588\n",
      " 23.82426424 23.8140726  23.80388096 23.79368931]\n",
      "the length of time:52\n",
      "23\n"
     ]
    }
   ],
   "source": [
    "t = 0\n",
    "h0 = 140.\n",
    "\n",
    "f0 = 1.e-4\n",
    "g = 9.8\n",
    "u0=0.08\n",
    "\n",
    "om=2*np.pi/12.4/3600 \n",
    "alpha = 2e-4 \n",
    "\n",
    "tR_fname=\"../indata/TRef.bin\"\n",
    "tRef = np.fromfile(tR_fname)\n",
    "refSalt=35.\n",
    "refTemp=tRef[0]\n",
    "print('refTemp='+ str(refTemp))\n",
    "print('tRef='+ str(tRef))\n",
    "\n",
    "xmin = -4\n",
    "xmax = 4\n",
    "vmax = 1\n",
    "vmin = -1\n",
    "wmax = 0.2\n",
    "wmin = -0.2\n",
    "tmax = math.floor(np.amax(tRef))\n",
    "tmin = math.floor(np.amin(tRef))\n",
    "numcolt=21\n",
    "numcolv=30\n",
    "\n",
    "ttlen=len(ds1.time)\n",
    "print('the length of time:' + str(ttlen) )\n",
    "print(tmin)"
   ]
  },
  {
   "cell_type": "code",
   "execution_count": 4,
   "metadata": {},
   "outputs": [],
   "source": [
    "xg=ds1.coords[\"XG\"]\n",
    "xc=ds1.coords[\"XC\"]\n",
    "yg=ds1.coords[\"YG\"]\n",
    "yc=ds1.coords[\"YC\"]\n",
    "z=ds1.coords[\"Z\"]\n",
    "time=ds1.coords['time'].values/np.timedelta64(1, 's')/3600\n",
    "ds1=ds1.assign_coords(XC0 = (ds1.XC/1000.-ds1.XC.mean()/1000.))\n",
    "ds1=ds1.assign_coords(XG0 = (ds1.XG-ds1.XC.mean())/1000.)\n",
    "ds1=ds1.assign_coords(YC0 = (ds1.YC/1000.-ds1.YC.mean()/1000.))\n",
    "ds1=ds1.assign_coords(YG0 = (ds1.YG-ds1.YC.mean())/1000.)\n",
    "yc0 = (ds1.YC/1000.-ds1.YC.mean()/1000.)\n",
    "xc0 = (ds1.XC/1000.-ds1.XC.mean()/1000.)"
   ]
  },
  {
   "cell_type": "code",
   "execution_count": 5,
   "metadata": {},
   "outputs": [
    {
     "data": {
      "text/plain": [
       "<Figure size 792x576 with 0 Axes>"
      ]
     },
     "metadata": {},
     "output_type": "display_data"
    }
   ],
   "source": [
    "fig = plt.figure(figsize=(11,8))\n",
    "grid = plt.GridSpec(2, 2, height_ratios=[0.6,2.5], width_ratios=[1,0.1],wspace=0.02,hspace=0.38)"
   ]
  },
  {
   "cell_type": "code",
   "execution_count": 6,
   "metadata": {},
   "outputs": [],
   "source": [
    "SMALL_SIZE = 17\n",
    "MEDIUM_SIZE = 19\n",
    "BIGGER_SIZE = 21\n",
    "\n",
    "plt.rc('font', size=SMALL_SIZE)          # controls default text sizes\n",
    "plt.rc('axes', titlesize=SMALL_SIZE)     # fontsize of the axes title\n",
    "plt.rc('axes', labelsize=MEDIUM_SIZE)    # fontsize of the x and y labels\n",
    "plt.rc('xtick', labelsize=SMALL_SIZE)    # fontsize of the tick labels\n",
    "plt.rc('ytick', labelsize=SMALL_SIZE)    # fontsize of the tick labels\n",
    "plt.rc('legend', fontsize=SMALL_SIZE)    # legend fontsize\n",
    "plt.rc('figure', titlesize=BIGGER_SIZE)  # fontsize of the figure title"
   ]
  },
  {
   "cell_type": "code",
   "execution_count": 7,
   "metadata": {},
   "outputs": [
    {
     "data": {
      "text/plain": [
       "Text(0.0, 1.0, 'Uinput vs U[t,0,0,0] ')"
      ]
     },
     "execution_count": 7,
     "metadata": {},
     "output_type": "execute_result"
    }
   ],
   "source": [
    "#plot bathymetry\n",
    "ax1=fig.add_subplot(grid[0,:-1])\n",
    "ax1.plot(time,np.zeros(ttlen),color='gray',linestyle='--')\n",
    "ax1.plot(time,ds1.UVEL.isel(Z=0,YC=0,XG=0),label='U(t,0,0,0)')\n",
    "ax1.plot(time,u0*np.cos(om*ds1.time.values/np.timedelta64(1, 's')),label='Uinput')\n",
    "ax1.set_xlim(min(time), max(time))\n",
    "ax1.set_ylim(-u0-0.05, u0+0.05)\n",
    "point, = ax1.plot([time[0]],[ds1.UVEL.isel(time=t,YC=40,XG=0,Z=0).data], 'go', color='red',ms=10)\n",
    "ax1.set_xlabel('time [hr]')\n",
    "ax1.set_ylabel('U [m/s]')\n",
    "ax1.set_title('Uinput vs U[t,0,0,0] ', loc='left')\n",
    "\n"
   ]
  },
  {
   "cell_type": "code",
   "execution_count": 8,
   "metadata": {},
   "outputs": [
    {
     "name": "stdout",
     "output_type": "stream",
     "text": [
      "[23. 24. 25. 26. 27. 28. 29.]\n"
     ]
    },
    {
     "name": "stderr",
     "output_type": "stream",
     "text": [
      "/home/jxchang/jupyter_py3.7/lib/python3.7/site-packages/ipykernel_launcher.py:12: UserWarning: The following kwargs were not used by contour: 'color'\n",
      "  if sys.path[0] == '':\n",
      "/home/jxchang/jupyter_py3.7/lib/python3.7/site-packages/ipykernel_launcher.py:17: MatplotlibDeprecationWarning: The 'extend' parameter to Colorbar has no effect because it is overridden by the mappable; it is deprecated since 3.3 and will be removed two minor releases later.\n"
     ]
    },
    {
     "data": {
      "text/plain": [
       "[<matplotlib.lines.Line2D at 0x2b328637ad90>]"
      ]
     },
     "execution_count": 8,
     "metadata": {},
     "output_type": "execute_result"
    }
   ],
   "source": [
    "# plot temperature\n",
    "ax2=fig.add_subplot(grid[1,0])\n",
    "cmap = cm.RdBu_r\n",
    "levels = np.linspace(vmin, vmax, num=numcolv)\n",
    "Tlevels = np.linspace(tmin,tmax,7)\n",
    "print(Tlevels)\n",
    "\n",
    "norm = BoundaryNorm(levels, ncolors=cmap.N, clip=True)\n",
    "opts = {'cmap':cm.get_cmap(cmap, len(levels) - 1), 'norm': norm}\n",
    "\n",
    "cset1 = ax2.contourf(ds1.XG0, ds1.Z, ds1.UVEL.isel(time=t,YC=60), levels , extend='max', **opts)\n",
    "cset2 = ax2.contour(ds1.XC0, ds1.Z, ds1.THETA.isel(time=t,YC=60), Tlevels , color='Gray')\n",
    "ax2.clabel(cset2, fontsize=9, inline=1)\n",
    "\n",
    "cax = fig.add_subplot(grid[1,-1])\n",
    "cax.set_visible(False)\n",
    "fig.colorbar(cset1, ax=cax,extend='both')\n",
    "#fig.colorbar(cset1, ax=axs,ticks=np.arange(tmin, tmax+0.1, 5))\n",
    "ax2.set_xlabel('X [km]')\n",
    "ax2.set_ylabel('Z [m]')\n",
    "ax2.set_title('T [oC]', loc='left')\n",
    "ax2.set(xlim=(xmin, xmax),ylim=(-208,0))\n",
    "ax2.plot(ds1['XC0'],-ds1.Depth.isel(YC=60),lw=1.5)"
   ]
  },
  {
   "cell_type": "code",
   "execution_count": 9,
   "metadata": {},
   "outputs": [
    {
     "name": "stdout",
     "output_type": "stream",
     "text": [
      "[<matplotlib.collections.PathCollection object at 0x2b32861c4cd0>, <matplotlib.collections.PathCollection object at 0x2b328616c290>, <matplotlib.collections.PathCollection object at 0x2b32861c88d0>, <matplotlib.collections.PathCollection object at 0x2b32861c8a90>, <matplotlib.collections.PathCollection object at 0x2b32861c8dd0>, <matplotlib.collections.PathCollection object at 0x2b3286211150>, <matplotlib.collections.PathCollection object at 0x2b3286211510>, <matplotlib.collections.PathCollection object at 0x2b3286211850>, <matplotlib.collections.PathCollection object at 0x2b3286211b90>, <matplotlib.collections.PathCollection object at 0x2b3286211190>, <matplotlib.collections.PathCollection object at 0x2b328621c210>, <matplotlib.collections.PathCollection object at 0x2b328621c5d0>, <matplotlib.collections.PathCollection object at 0x2b328621c9d0>, <matplotlib.collections.PathCollection object at 0x2b32862254d0>, <matplotlib.collections.PathCollection object at 0x2b3286227d90>, <matplotlib.collections.PathCollection object at 0x2b3286232a90>, <matplotlib.collections.PathCollection object at 0x2b32862401d0>, <matplotlib.collections.PathCollection object at 0x2b3286247250>, <matplotlib.collections.PathCollection object at 0x2b328624c850>, <matplotlib.collections.PathCollection object at 0x2b3286252610>, <matplotlib.collections.PathCollection object at 0x2b3286257910>, <matplotlib.collections.PathCollection object at 0x2b328625c890>, <matplotlib.collections.PathCollection object at 0x2b32862623d0>, <matplotlib.collections.PathCollection object at 0x2b3286269090>, <matplotlib.collections.PathCollection object at 0x2b32862697d0>, <matplotlib.collections.PathCollection object at 0x2b3286269d50>, <matplotlib.collections.PathCollection object at 0x2b328626f310>, <matplotlib.collections.PathCollection object at 0x2b328626f710>, <matplotlib.collections.PathCollection object at 0x2b328626fad0>, <matplotlib.collections.PathCollection object at 0x2b328626fe10>, <matplotlib.collections.LineCollection object at 0x2b328628a8d0>, <matplotlib.collections.LineCollection object at 0x2b328614fb10>, <matplotlib.collections.LineCollection object at 0x2b328628ae10>, <matplotlib.collections.LineCollection object at 0x2b328628e250>, <matplotlib.collections.LineCollection object at 0x2b328628e590>, <matplotlib.collections.LineCollection object at 0x2b328628e890>, <matplotlib.collections.LineCollection object at 0x2b328628ed10>]\n"
     ]
    }
   ],
   "source": [
    "fig\n",
    "print(ax2.collections)"
   ]
  },
  {
   "cell_type": "code",
   "execution_count": 10,
   "metadata": {},
   "outputs": [
    {
     "data": {
      "text/plain": [
       "<Figure size 432x288 with 0 Axes>"
      ]
     },
     "metadata": {},
     "output_type": "display_data"
    },
    {
     "name": "stdout",
     "output_type": "stream",
     "text": [
      "0\n"
     ]
    },
    {
     "name": "stderr",
     "output_type": "stream",
     "text": [
      "/home/jxchang/jupyter_py3.7/lib/python3.7/site-packages/ipykernel_launcher.py:8: UserWarning: The following kwargs were not used by contour: 'color'\n",
      "  \n"
     ]
    },
    {
     "name": "stdout",
     "output_type": "stream",
     "text": [
      "0\n",
      "1\n",
      "2\n",
      "3\n",
      "4\n",
      "5\n",
      "6\n",
      "7\n",
      "8\n",
      "9\n",
      "10\n",
      "11\n",
      "12\n",
      "13\n",
      "14\n",
      "15\n",
      "16\n",
      "17\n",
      "18\n",
      "19\n",
      "20\n",
      "21\n",
      "22\n",
      "23\n",
      "24\n",
      "25\n",
      "26\n",
      "27\n",
      "28\n",
      "29\n",
      "30\n",
      "31\n",
      "32\n",
      "33\n",
      "34\n",
      "35\n",
      "36\n",
      "37\n",
      "38\n",
      "39\n"
     ]
    }
   ],
   "source": [
    "tt: int=0\n",
    "def updateData(tt):\n",
    "\n",
    "    updatetime = time[tt]\n",
    "    print(tt)\n",
    "    ax2.collections = []\n",
    "    ax2.contourf(ds1.XG0, ds1.Z, ds1.UVEL.isel(time=tt,YC=60), levels, extend='max', **opts)\n",
    "    ax2.contour(ds1.XC0, ds1.Z, ds1.THETA.isel(time=tt,YC=60), Tlevels, color='Gray')\n",
    "    point.set_data(updatetime,ds1.UVEL.isel(time=tt,YC=60,XG=0,Z=0))\n",
    "    ax1.set_title('t= %2.3fhr' % updatetime)\n",
    "    fig.savefig('./figsMag2/summary_TU_y60_xz_t%s.png' %(tt+120))\n",
    "\n",
    "\n",
    "\n",
    "simulation = animation.FuncAnimation(fig, updateData, blit=False, frames= 40 , interval=40, repeat=False)\n",
    "plt.draw()\n",
    "plt.show()\n",
    "simulation.save(filename='summary_TU_y60_xz.gif',writer='imagemagick', fps=2)"
   ]
  },
  {
   "cell_type": "code",
   "execution_count": 11,
   "metadata": {},
   "outputs": [
    {
     "data": {
      "text/html": [
       "<img src=\"./summary_TU_y60_xz.gif\"/>"
      ],
      "text/plain": [
       "<IPython.core.display.Image object>"
      ]
     },
     "metadata": {},
     "output_type": "display_data"
    }
   ],
   "source": [
    "from IPython.display import Image\n",
    "from IPython.display import display\n",
    "display(Image(url='./summary_TU_y60_xz.gif'))"
   ]
  },
  {
   "cell_type": "code",
   "execution_count": null,
   "metadata": {},
   "outputs": [],
   "source": []
  }
 ],
 "metadata": {
  "kernelspec": {
   "display_name": "Python 3",
   "language": "python",
   "name": "python3"
  },
  "language_info": {
   "codemirror_mode": {
    "name": "ipython",
    "version": 3
   },
   "file_extension": ".py",
   "mimetype": "text/x-python",
   "name": "python",
   "nbconvert_exporter": "python",
   "pygments_lexer": "ipython3",
   "version": "3.7.7"
  }
 },
 "nbformat": 4,
 "nbformat_minor": 2
}
